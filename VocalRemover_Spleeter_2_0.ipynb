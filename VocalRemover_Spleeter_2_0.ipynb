{
  "cells": [
    {
      "cell_type": "markdown",
      "metadata": {
        "id": "view-in-github",
        "colab_type": "text"
      },
      "source": [
        "<a href=\"https://colab.research.google.com/github/hugomedsa/separador_de_melodia/blob/main/VocalRemover_Spleeter_2_0.ipynb\" target=\"_parent\"><img src=\"https://colab.research.google.com/assets/colab-badge.svg\" alt=\"Open In Colab\"/></a>"
      ]
    },
    {
      "cell_type": "code",
      "execution_count": null,
      "metadata": {
        "id": "f8Brdfh6mzEz"
      },
      "outputs": [],
      "source": [
        "!pip install pydub spleeter imageio-ffmpeg pygame PyTube -q"
      ]
    },
    {
      "cell_type": "markdown",
      "source": [
        "###CÓDIGO ESTRUTURADO"
      ],
      "metadata": {
        "id": "a3McAmD_XILq"
      }
    },
    {
      "cell_type": "code",
      "execution_count": 11,
      "metadata": {
        "id": "9JDfDhi45t8D"
      },
      "outputs": [],
      "source": [
        "from IPython.display import HTML, Audio\n",
        "from google.colab import files\n",
        "from time import sleep\n",
        "from pytube import YouTube\n",
        "import os, subprocess, spleeter,pygame,io,torchaudio, ffmpeg\n",
        "from pydub import AudioSegment\n",
        "from moviepy.video.io.ffmpeg_tools import ffmpeg_extract_subclip\n",
        "from google.colab.output import eval_js\n",
        "from base64 import b64decode\n",
        "import numpy as np\n",
        "from scipy.io.wavfile import read as wav_read\n",
        "\n",
        "def yt():\n",
        "  link=input('Insira o link: ')\n",
        "  video = YouTube(link).streams.filter(only_audio=False,bitrate=\"48kbps\").first() #\n",
        "  out_file = video.download()\n",
        "  n = 0\n",
        "  base, ext = os.path.splitext(out_file)\n",
        "\n",
        "  inic_fim =  '00:'+'00:05'              + ':' +           '00:' +'01:30'\n",
        "  sec = [int(c) for c in inic_fim.split(':')]\n",
        "  t1 = sec[0]*3600 + sec[1]*60 + sec[2]\n",
        "  t2 = sec[3]*3600 + sec[4]*60 + sec[5]\n",
        "  \n",
        "  ffmpeg_extract_subclip(out_file,t1, t2, targetname=f'{base} ({n}).mp4')\n",
        "  old_file = f'{base} ({n}).mp4'\n",
        "  base2, ext = os.path.splitext(old_file)\n",
        "  new_file = base2 + '.mp3'\n",
        "  n +=1\n",
        "  os.rename(old_file, new_file)\n",
        "  b = new_file[9:]\n",
        "  return b\n",
        "\n",
        "def up():\n",
        "  b = list(files.upload().keys())[0] #FAZER UPLOAD DO AUDIO DO PC\n",
        "  return b\n",
        "\n",
        "def rec():\n",
        "  AUDIO_HTML = \"\"\"\n",
        "  <script>\n",
        "  var my_div = document.createElement(\"DIV\");\n",
        "  var my_p = document.createElement(\"P\");\n",
        "  var my_btn = document.createElement(\"BUTTON\");\n",
        "  var t = document.createTextNode(\"Press to start recording\");\n",
        "\n",
        "  my_btn.appendChild(t);\n",
        "  //my_p.appendChild(my_btn);\n",
        "  my_div.appendChild(my_btn);\n",
        "  document.body.appendChild(my_div);\n",
        "\n",
        "  var base64data = 0;\n",
        "  var reader;\n",
        "  var recorder, gumStream;\n",
        "  var recordButton = my_btn;\n",
        "\n",
        "  var handleSuccess = function(stream) {\n",
        "    gumStream = stream;\n",
        "    var options = {\n",
        "      //bitsPerSecond: 8000, //chrome seems to ignore, always 48k\n",
        "      mimeType : 'audio/webm;codecs=opus'\n",
        "      //mimeType : 'audio/webm;codecs=pcm'\n",
        "    };            \n",
        "    //recorder = new MediaRecorder(stream, options);\n",
        "    recorder = new MediaRecorder(stream);\n",
        "    recorder.ondataavailable = function(e) {            \n",
        "      var url = URL.createObjectURL(e.data);\n",
        "      var preview = document.createElement('audio');\n",
        "      preview.controls = true;\n",
        "      preview.src = url;\n",
        "      document.body.appendChild(preview);\n",
        "\n",
        "      reader = new FileReader();\n",
        "      reader.readAsDataURL(e.data); \n",
        "      reader.onloadend = function() {\n",
        "        base64data = reader.result;\n",
        "        //console.log(\"Inside FileReader:\" + base64data);\n",
        "      }\n",
        "    };\n",
        "    recorder.start();\n",
        "    };\n",
        "\n",
        "  recordButton.innerText = \"Recording... press to stop\";\n",
        "\n",
        "  navigator.mediaDevices.getUserMedia({audio: true}).then(handleSuccess);\n",
        "\n",
        "\n",
        "  function toggleRecording() {\n",
        "    if (recorder && recorder.state == \"recording\") {\n",
        "        recorder.stop();\n",
        "        gumStream.getAudioTracks()[0].stop();\n",
        "        recordButton.innerText = \"Saving the recording... pls wait!\"\n",
        "    }\n",
        "  }\n",
        "\n",
        "  // https://stackoverflow.com/a/951057\n",
        "  function sleep(ms) {\n",
        "    return new Promise(resolve => setTimeout(resolve, ms));\n",
        "  }\n",
        "\n",
        "  var data = new Promise(resolve=>{\n",
        "  //recordButton.addEventListener(\"click\", toggleRecording);\n",
        "  recordButton.onclick = ()=>{\n",
        "  toggleRecording()\n",
        "\n",
        "  sleep(2000).then(() => {\n",
        "    // wait 2000ms for the data to be available...\n",
        "    // ideally this should use something like await...\n",
        "    //console.log(\"Inside data:\" + base64data)\n",
        "    resolve(base64data.toString())\n",
        "\n",
        "  });\n",
        "\n",
        "  }\n",
        "  });\n",
        "        \n",
        "  </script>\n",
        "  \"\"\"\n",
        "  display(HTML(AUDIO_HTML))\n",
        "  data = eval_js(\"data\")\n",
        "  binary = b64decode(data.split(',')[1])\n",
        "  with open('audio.mp3','wb') as f:\n",
        "    f.write(binary)\n",
        "  \n",
        "  process = (ffmpeg\n",
        "    .input('pipe:0')\n",
        "    .output('pipe:1', format='wav')\n",
        "    .run_async(pipe_stdin=True, pipe_stdout=True, pipe_stderr=True, quiet=True, overwrite_output=True)\n",
        "  )\n",
        "  output, err = process.communicate(input=binary)\n",
        "  \n",
        "  riff_chunk_size = len(output) - 8\n",
        "  # Break up the chunk size into four bytes, held in b.\n",
        "  q = riff_chunk_size\n",
        "  b = []\n",
        "  for i in range(4):\n",
        "      q, r = divmod(q, 256)\n",
        "      b.append(r)\n",
        "\n",
        "  # Replace bytes 4:8 in proc.stdout with the actual size of the RIFF chunk.\n",
        "  riff = output[:4] + bytes(b) + output[8:]\n",
        "  sr, audio = wav_read(io.BytesIO(riff))\n",
        "  canto = io.BytesIO(riff)\n",
        "  return 'audio.mp3'"
      ]
    },
    {
      "cell_type": "markdown",
      "source": [
        "###EXECUÇÃO"
      ],
      "metadata": {
        "id": "7vfHVzbBXN1N"
      }
    },
    {
      "cell_type": "code",
      "execution_count": null,
      "metadata": {
        "id": "dGL-k5xxoKbu"
      },
      "outputs": [],
      "source": [
        "b = yt() # yt(Extrair áudio do YouTube); up(Fazer upload do arquivo); rec(Usar gravação de voz ambiente)\n",
        "os.rename(b, 'a.mp3')\n",
        "!spleeter separate -p spleeter:2stems -o output/ a.mp3 -b 48k -c mp3  #spleeter versao 1.4.0 INCLUINDO ACOMPLISHMENT -b 64k\n",
        "audio_final = 'output/a/'+b+'.mp3'\n",
        "os.rename('output/a/vocals.mp3',audio_final)\n",
        "sound = AudioSegment.from_mp3(audio_final)\n",
        "twenty_sec_silence = AudioSegment.silent(duration=2000) #20 segundos no final do audio\n",
        "sound_with_silence = sound + twenty_sec_silence\n",
        "sound_with_silence.export('audio_silence.mp3')\n",
        "files.download('audio_silence.mp3')\n",
        "os.rename('a.mp3',b)"
      ]
    }
  ],
  "metadata": {
    "colab": {
      "collapsed_sections": [],
      "name": "VocalRemover_Spleeter 2.0.ipynb",
      "provenance": [],
      "include_colab_link": true
    },
    "kernelspec": {
      "display_name": "Python 3",
      "name": "python3"
    }
  },
  "nbformat": 4,
  "nbformat_minor": 0
}